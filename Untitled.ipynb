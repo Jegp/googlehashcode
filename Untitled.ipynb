{
 "cells": [
  {
   "cell_type": "code",
   "execution_count": 7,
   "metadata": {
    "collapsed": true
   },
   "outputs": [],
   "source": [
    "import numpy as np"
   ]
  },
  {
   "cell_type": "code",
   "execution_count": 59,
   "metadata": {
    "collapsed": true
   },
   "outputs": [],
   "source": [
    "data_center_capacity = 9999999999999999999999999\n",
    "\n",
    "caches = {\"c0\": (data_center_capacity, [])}\n",
    "endpoints = {\"e0\": [(10, \"v0\")]}\n",
    "videos = {}\n",
    "latency = {(\"e0\", \"c0\"): 1000}\n"
   ]
  },
  {
   "cell_type": "code",
   "execution_count": 60,
   "metadata": {
    "collapsed": false
   },
   "outputs": [],
   "source": [
    "fname = 'me_at_the_zoo.in'\n",
    "with open(fname) as f:\n",
    "    content = f.readlines()\n",
    "# you may also want to remove whitespace characters like `\\n` at the end of each line\n",
    "content = [x.strip() for x in content] \n",
    "\n",
    "settings = content[0].split()\n"
   ]
  },
  {
   "cell_type": "code",
   "execution_count": 61,
   "metadata": {
    "collapsed": false
   },
   "outputs": [],
   "source": [
    "for i in range(int(settings[0])):\n",
    "    index = \"v\" + str(i)\n",
    "    videos[index] = -1\n",
    "\n",
    "for i in range(int(settings[1])):\n",
    "    endpoints[\"e\" + str(i)] = []\n",
    "\n",
    "for i in range(int(settings[3])):\n",
    "    caches[\"c\" + str(i)] = (int(settings[4]),[])\n",
    "    \n",
    "caches[\"dc\"] = (data_center_capacity, [])"
   ]
  },
  {
   "cell_type": "code",
   "execution_count": 62,
   "metadata": {
    "collapsed": false
   },
   "outputs": [],
   "source": [
    "# videos\n",
    "video_sizes = [int(x) for x in content[1].split()]\n",
    "\n",
    "for i, s in enumerate(video_sizes):\n",
    "    videos['v' + str(i)] = s"
   ]
  },
  {
   "cell_type": "code",
   "execution_count": 65,
   "metadata": {
    "collapsed": false
   },
   "outputs": [],
   "source": [
    "#endpoints\n",
    "line = content[2].split()\n",
    "i = 2\n",
    "n_s = 0\n",
    "e_id = -1\n",
    "while(len(line) == 2):\n",
    "    if(n_s == 0):\n",
    "        e_id += 1\n",
    "        n_s = int(line[1])\n",
    "        latency[(\"e\" + str(e_id), \"dc\")] = line[0]\n",
    "    else:\n",
    "        n_s -= 1\n",
    "        latency[(\"e\" + str(e_id), \"c\" + str(line[0]))] = int(line[1])\n",
    "    i += 1\n",
    "    line = content[i].split()"
   ]
  },
  {
   "cell_type": "code",
   "execution_count": 69,
   "metadata": {
    "collapsed": false
   },
   "outputs": [
    {
     "data": {
      "text/plain": [
       "{'c0': (100, []),\n",
       " 'c1': (100, []),\n",
       " 'c2': (100, []),\n",
       " 'c3': (100, []),\n",
       " 'c4': (100, []),\n",
       " 'c5': (100, []),\n",
       " 'c6': (100, []),\n",
       " 'c7': (100, []),\n",
       " 'c8': (100, []),\n",
       " 'c9': (100, [])}"
      ]
     },
     "execution_count": 69,
     "metadata": {},
     "output_type": "execute_result"
    }
   ],
   "source": [
    "#result\n",
    "for index in range(i, len(content)):\n",
    "    line = content[index].split()\n",
    "    endpoints[\"e\" + str(line[1])].append((int(line[2]), \"v\" + str(line[0])))"
   ]
  }
 ],
 "metadata": {
  "anaconda-cloud": {},
  "kernelspec": {
   "display_name": "Python [Root]",
   "language": "python",
   "name": "Python [Root]"
  },
  "language_info": {
   "codemirror_mode": {
    "name": "ipython",
    "version": 3
   },
   "file_extension": ".py",
   "mimetype": "text/x-python",
   "name": "python",
   "nbconvert_exporter": "python",
   "pygments_lexer": "ipython3",
   "version": "3.5.2"
  }
 },
 "nbformat": 4,
 "nbformat_minor": 0
}
